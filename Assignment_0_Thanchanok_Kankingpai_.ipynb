{
  "nbformat": 4,
  "nbformat_minor": 0,
  "metadata": {
    "colab": {
      "provenance": [],
      "include_colab_link": true
    },
    "kernelspec": {
      "name": "python3",
      "display_name": "Python 3"
    },
    "language_info": {
      "name": "python"
    }
  },
  "cells": [
    {
      "cell_type": "markdown",
      "metadata": {
        "id": "view-in-github",
        "colab_type": "text"
      },
      "source": [
        "<a href=\"https://colab.research.google.com/github/ThanchanokKan/Assignment-0/blob/main/Assignment_0_Thanchanok_Kankingpai_.ipynb\" target=\"_parent\"><img src=\"https://colab.research.google.com/assets/colab-badge.svg\" alt=\"Open In Colab\"/></a>"
      ]
    },
    {
      "cell_type": "code",
      "execution_count": null,
      "metadata": {
        "colab": {
          "base_uri": "https://localhost:8080/"
        },
        "id": "tV3GuZtLvcgs",
        "outputId": "ebb28cea-0a34-4a09-abc9-02b7f7b0d188"
      },
      "outputs": [
        {
          "output_type": "stream",
          "name": "stdout",
          "text": [
            "Counter({1: 2, 2: 1})\n",
            "Counter({1: 124264, 2: 62096, 3: 31431, 4: 15761, 5: 7902, 6: 3982, 7: 1986, 8: 962, 9: 505, 10: 243, 11: 138, 12: 52, 13: 27, 14: 16, 15: 9, 17: 4, 16: 2, 18: 1})\n"
          ]
        }
      ],
      "source": [
        "from collections import Counter\n",
        "import numpy as np\n",
        "\n",
        "def count_runs(sequence):\n",
        "    run_counts = Counter()\n",
        "    current_run = 0\n",
        "\n",
        "    for value in sequence:\n",
        "        if value == 1:\n",
        "            current_run += 1\n",
        "        else:\n",
        "            if current_run > 0:\n",
        "                run_counts[current_run] += 1\n",
        "                current_run = 0\n",
        "\n",
        "    if current_run > 0:\n",
        "        run_counts[current_run] += 1\n",
        "\n",
        "    return run_counts\n",
        "\n",
        "result1 = count_runs([0, 1, 0, 1, 1, 0, 0, 0, 0, 1])\n",
        "print(result1)\n",
        "\n",
        "result2 = count_runs(np.random.randint(0, 2, 1000000))\n",
        "print(result2)"
      ]
    },
    {
      "cell_type": "code",
      "source": [
        "import numpy as np\n",
        "\n",
        "def run_prob(expts, n, k, p):\n",
        "    runs = np.random.binomial(1, p, size=(expts, n))\n",
        "\n",
        "    def find_runs(arr):\n",
        "        return [len(list(group)) for key, group in groupby(arr) if key == 1]\n",
        "\n",
        "    has_run_k_or_more = np.apply_along_axis(lambda x: any(run >= k for run in find_runs(x)), 1, runs)\n",
        "    probability = np.mean(has_run_k_or_more)\n",
        "    return probability\n",
        "\n",
        "result1 = run_prob(expts=100000, n=100, k=5, p=0.5)\n",
        "print(result1)\n",
        "result2 = run_prob(expts=100000, n=100, k=7, p=0.7)\n",
        "print(result2)\n"
      ],
      "metadata": {
        "colab": {
          "base_uri": "https://localhost:8080/"
        },
        "id": "0yhuZKitxvT7",
        "outputId": "a10cfd6d-4f97-4a47-cc00-c02778cfcbc9"
      },
      "execution_count": null,
      "outputs": [
        {
          "output_type": "stream",
          "name": "stdout",
          "text": [
            "0.8097\n",
            "0.94848\n"
          ]
        }
      ]
    }
  ]
}